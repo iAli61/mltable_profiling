{
 "cells": [
  {
   "cell_type": "code",
   "execution_count": null,
   "metadata": {},
   "outputs": [],
   "source": []
  },
  {
   "cell_type": "markdown",
   "metadata": {},
   "source": [
    "\n",
    "1. Open a terminal or command prompt and run the command `az login --service-principal -u <client_id> -p <client_secret> --tenant <tenant_id>`. Replace `<client_id>`, `<client_secret>`, and `<tenant_id>` with the appropriate values.\n",
    "2. After logging in, run the command `az account set --subscription <subscription_id>` to set the subscription you want to use.\n"
   ]
  },
  {
   "cell_type": "code",
   "execution_count": 10,
   "metadata": {},
   "outputs": [
    {
     "name": "stderr",
     "output_type": "stream",
     "text": [
      "Warning: Falling back to use azure cli login credentials.\n",
      "If you run your code in unattended mode, i.e., where you can't give a user input, then we recommend to use ServicePrincipalAuthentication or MsiAuthentication.\n",
      "Please refer to aka.ms/aml-notebook-auth for different authentication mechanisms in azureml-sdk.\n"
     ]
    },
    {
     "data": {
      "text/plain": [
       "['/mnt/batch/tasks/shared/LS_root/mounts/clusters/alibina1/code/mltable_profiling/tensorflow-dlprof/dlprof/base/dlprof_dldb.sqlite',\n",
       " '/mnt/batch/tasks/shared/LS_root/mounts/clusters/alibina1/code/mltable_profiling/tensorflow-dlprof/dlprof/base/nsys_profile.nsys-rep',\n",
       " '/mnt/batch/tasks/shared/LS_root/mounts/clusters/alibina1/code/mltable_profiling/tensorflow-dlprof/dlprof/base/nsys_profile.sqlite']"
      ]
     },
     "execution_count": 10,
     "metadata": {},
     "output_type": "execute_result"
    }
   ],
   "source": [
    "\n",
    "from azureml.core import Workspace, Dataset, Datastore\n",
    "subscription_id = 'f804f2da-c27b-45ac-bf80-16d4d331776d'\n",
    "resource_group = 'rg-mltable-profiler'\n",
    "workspace_name = 'mlw-mltable-profiler'\n",
    "  \n",
    "workspace = Workspace(subscription_id, resource_group, workspace_name)\n",
    "  \n",
    "datastore = Datastore.get(workspace, \"workspaceblobstore\")\n",
    "dataset = Dataset.File.from_files(path=(datastore, 'azureml/ffa9a72f-4352-4da0-9d22-b80382e3fcdd/dlprof'))\n",
    "dataset.download(target_path='./base', overwrite=True)"
   ]
  },
  {
   "cell_type": "code",
   "execution_count": null,
   "metadata": {},
   "outputs": [],
   "source": []
  }
 ],
 "metadata": {
  "kernelspec": {
   "display_name": "azureml_py38",
   "language": "python",
   "name": "python3"
  },
  "language_info": {
   "codemirror_mode": {
    "name": "ipython",
    "version": 3
   },
   "file_extension": ".py",
   "mimetype": "text/x-python",
   "name": "python",
   "nbconvert_exporter": "python",
   "pygments_lexer": "ipython3",
   "version": "3.8.5"
  },
  "orig_nbformat": 4
 },
 "nbformat": 4,
 "nbformat_minor": 2
}
