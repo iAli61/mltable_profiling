{
 "cells": [
  {
   "cell_type": "code",
   "execution_count": 1,
   "metadata": {},
   "outputs": [],
   "source": [
    "subscription_id = 'f804f2da-c27b-45ac-bf80-16d4d331776d'\n",
    "resource_group = 'rg-mltable-profiler'\n",
    "workspace_name = 'mlw-mltable-profiler'"
   ]
  },
  {
   "cell_type": "code",
   "execution_count": 3,
   "metadata": {},
   "outputs": [
    {
     "name": "stderr",
     "output_type": "stream",
     "text": [
      "Warning: Falling back to use azure cli login credentials.\n",
      "If you run your code in unattended mode, i.e., where you can't give a user input, then we recommend to use ServicePrincipalAuthentication or MsiAuthentication.\n",
      "Please refer to aka.ms/aml-notebook-auth for different authentication mechanisms in azureml-sdk.\n"
     ]
    },
    {
     "data": {
      "text/html": [
       "<div>\n",
       "<style scoped>\n",
       "    .dataframe tbody tr th:only-of-type {\n",
       "        vertical-align: middle;\n",
       "    }\n",
       "\n",
       "    .dataframe tbody tr th {\n",
       "        vertical-align: top;\n",
       "    }\n",
       "\n",
       "    .dataframe thead th {\n",
       "        text-align: right;\n",
       "    }\n",
       "</style>\n",
       "<table border=\"1\" class=\"dataframe\">\n",
       "  <thead>\n",
       "    <tr style=\"text-align: right;\">\n",
       "      <th></th>\n",
       "      <th>image_url</th>\n",
       "      <th>mask_url</th>\n",
       "    </tr>\n",
       "  </thead>\n",
       "  <tbody>\n",
       "    <tr>\n",
       "      <th>0</th>\n",
       "      <td>workspaceblobstore/LocalUpload/e96e8f00a277573...</td>\n",
       "      <td>workspaceblobstore/LocalUpload/e96e8f00a277573...</td>\n",
       "    </tr>\n",
       "    <tr>\n",
       "      <th>1</th>\n",
       "      <td>workspaceblobstore/LocalUpload/e96e8f00a277573...</td>\n",
       "      <td>workspaceblobstore/LocalUpload/e96e8f00a277573...</td>\n",
       "    </tr>\n",
       "    <tr>\n",
       "      <th>2</th>\n",
       "      <td>workspaceblobstore/LocalUpload/e96e8f00a277573...</td>\n",
       "      <td>workspaceblobstore/LocalUpload/e96e8f00a277573...</td>\n",
       "    </tr>\n",
       "    <tr>\n",
       "      <th>3</th>\n",
       "      <td>workspaceblobstore/LocalUpload/e96e8f00a277573...</td>\n",
       "      <td>workspaceblobstore/LocalUpload/e96e8f00a277573...</td>\n",
       "    </tr>\n",
       "    <tr>\n",
       "      <th>4</th>\n",
       "      <td>workspaceblobstore/LocalUpload/e96e8f00a277573...</td>\n",
       "      <td>workspaceblobstore/LocalUpload/e96e8f00a277573...</td>\n",
       "    </tr>\n",
       "  </tbody>\n",
       "</table>\n",
       "</div>"
      ],
      "text/plain": [
       "                                           image_url  \\\n",
       "0  workspaceblobstore/LocalUpload/e96e8f00a277573...   \n",
       "1  workspaceblobstore/LocalUpload/e96e8f00a277573...   \n",
       "2  workspaceblobstore/LocalUpload/e96e8f00a277573...   \n",
       "3  workspaceblobstore/LocalUpload/e96e8f00a277573...   \n",
       "4  workspaceblobstore/LocalUpload/e96e8f00a277573...   \n",
       "\n",
       "                                            mask_url  \n",
       "0  workspaceblobstore/LocalUpload/e96e8f00a277573...  \n",
       "1  workspaceblobstore/LocalUpload/e96e8f00a277573...  \n",
       "2  workspaceblobstore/LocalUpload/e96e8f00a277573...  \n",
       "3  workspaceblobstore/LocalUpload/e96e8f00a277573...  \n",
       "4  workspaceblobstore/LocalUpload/e96e8f00a277573...  "
      ]
     },
     "execution_count": 3,
     "metadata": {},
     "output_type": "execute_result"
    }
   ],
   "source": [
    "import mltable\n",
    "from azure.ai.ml import MLClient\n",
    "from azure.identity import DefaultAzureCredential\n",
    "\n",
    "ml_client = MLClient(subscription_id = subscription_id,\n",
    "                     resource_group_name = resource_group,\n",
    "                     workspace_name = workspace_name,\n",
    "                     credential=DefaultAzureCredential()\n",
    "                        )\n",
    "data_asset = ml_client.data.get(name=\"pet_images-mltable\", version=\"1\")\n",
    "\n",
    "tbl = mltable.load(f'azureml:/{data_asset.id}')\n",
    "df = tbl.to_pandas_dataframe()\n",
    "df.head()"
   ]
  },
  {
   "cell_type": "code",
   "execution_count": null,
   "metadata": {},
   "outputs": [],
   "source": []
  },
  {
   "cell_type": "code",
   "execution_count": 21,
   "metadata": {},
   "outputs": [],
   "source": [
    "from azureml.fsspec import AzureMachineLearningFileSystem\n",
    "\n",
    "# instantiate file system using following URI\n",
    "datastoreid =ml_client.datastores.get(name=\"workspaceblobstore\").id\n",
    "fs = AzureMachineLearningFileSystem(\"azureml:/\"+datastoreid)"
   ]
  },
  {
   "cell_type": "code",
   "execution_count": 23,
   "metadata": {},
   "outputs": [
    {
     "ename": "UserErrorException",
     "evalue": "\nError Code: UserError\nError Message: StreamError(NotFound)| session_id=l_33e0c6d6-a2b5-4ff5-a57b-58a86b479e83",
     "output_type": "error",
     "traceback": [
      "\u001b[0;31m---------------------------------------------------------------------------\u001b[0m",
      "\u001b[0;31mException\u001b[0m                                 Traceback (most recent call last)",
      "File \u001b[0;32m~/miniconda3/envs/promptflow/lib/python3.11/site-packages/azureml/fsspec/spec.py:387\u001b[0m, in \u001b[0;36mAzureMachineLearningFileSystem._open\u001b[0;34m(self, path, mode, **kwargs)\u001b[0m\n\u001b[1;32m    384\u001b[0m     downloader \u001b[39m=\u001b[39m Downloader(block_size\u001b[39m=\u001b[39m\u001b[39m8\u001b[39m \u001b[39m*\u001b[39m \u001b[39m1024\u001b[39m \u001b[39m*\u001b[39m \u001b[39m1024\u001b[39m, read_threads\u001b[39m=\u001b[39mread_threads,\n\u001b[1;32m    385\u001b[0m                             caching_options\u001b[39m=\u001b[39mCachingOptions(memory_cache_size\u001b[39m=\u001b[39mmemory_cache_size))\n\u001b[0;32m--> 387\u001b[0m     \u001b[39mreturn\u001b[39;00m si\u001b[39m.\u001b[39;49mopen(buffering_options\u001b[39m=\u001b[39;49mBufferingOptions(\u001b[39m64\u001b[39;49m, downloader))\n\u001b[1;32m    388\u001b[0m \u001b[39mexcept\u001b[39;00m \u001b[39mException\u001b[39;00m \u001b[39mas\u001b[39;00m e:\n",
      "\u001b[0;31mException\u001b[0m: StreamError(NotFound)",
      "\nDuring handling of the above exception, another exception occurred:\n",
      "\u001b[0;31mUserErrorException\u001b[0m                        Traceback (most recent call last)",
      "\u001b[1;32m/mnt/c/Users/alibina/source/repos/Bosch/mltable_profiling/tensorflow-dlprof-mltable/mltable/mltable.ipynb Cell 5\u001b[0m line \u001b[0;36m3\n\u001b[1;32m      <a href='vscode-notebook-cell://wsl%2Bubuntu-20.04/mnt/c/Users/alibina/source/repos/Bosch/mltable_profiling/tensorflow-dlprof-mltable/mltable/mltable.ipynb#X12sdnNjb2RlLXJlbW90ZQ%3D%3D?line=0'>1</a>\u001b[0m \u001b[39mfrom\u001b[39;00m \u001b[39mPIL\u001b[39;00m \u001b[39mimport\u001b[39;00m Image\n\u001b[1;32m      <a href='vscode-notebook-cell://wsl%2Bubuntu-20.04/mnt/c/Users/alibina/source/repos/Bosch/mltable_profiling/tensorflow-dlprof-mltable/mltable/mltable.ipynb#X12sdnNjb2RlLXJlbW90ZQ%3D%3D?line=1'>2</a>\u001b[0m \u001b[39mint\u001b[39m \u001b[39m=\u001b[39m \u001b[39m0\u001b[39m\n\u001b[0;32m----> <a href='vscode-notebook-cell://wsl%2Bubuntu-20.04/mnt/c/Users/alibina/source/repos/Bosch/mltable_profiling/tensorflow-dlprof-mltable/mltable/mltable.ipynb#X12sdnNjb2RlLXJlbW90ZQ%3D%3D?line=2'>3</a>\u001b[0m \u001b[39mwith\u001b[39;00m fs\u001b[39m.\u001b[39;49mopen(\u001b[39mstr\u001b[39;49m(df\u001b[39m.\u001b[39;49mimage_url[\u001b[39mint\u001b[39;49m])) \u001b[39mas\u001b[39;00m f:\n\u001b[1;32m      <a href='vscode-notebook-cell://wsl%2Bubuntu-20.04/mnt/c/Users/alibina/source/repos/Bosch/mltable_profiling/tensorflow-dlprof-mltable/mltable/mltable.ipynb#X12sdnNjb2RlLXJlbW90ZQ%3D%3D?line=3'>4</a>\u001b[0m     img \u001b[39m=\u001b[39m Image\u001b[39m.\u001b[39mopen(f)\n\u001b[1;32m      <a href='vscode-notebook-cell://wsl%2Bubuntu-20.04/mnt/c/Users/alibina/source/repos/Bosch/mltable_profiling/tensorflow-dlprof-mltable/mltable/mltable.ipynb#X12sdnNjb2RlLXJlbW90ZQ%3D%3D?line=4'>5</a>\u001b[0m     img\u001b[39m.\u001b[39mshow()\n",
      "File \u001b[0;32m~/miniconda3/envs/promptflow/lib/python3.11/site-packages/fsspec/asyn.py:118\u001b[0m, in \u001b[0;36msync_wrapper.<locals>.wrapper\u001b[0;34m(*args, **kwargs)\u001b[0m\n\u001b[1;32m    115\u001b[0m \u001b[39m@functools\u001b[39m\u001b[39m.\u001b[39mwraps(func)\n\u001b[1;32m    116\u001b[0m \u001b[39mdef\u001b[39;00m \u001b[39mwrapper\u001b[39m(\u001b[39m*\u001b[39margs, \u001b[39m*\u001b[39m\u001b[39m*\u001b[39mkwargs):\n\u001b[1;32m    117\u001b[0m     \u001b[39mself\u001b[39m \u001b[39m=\u001b[39m obj \u001b[39mor\u001b[39;00m args[\u001b[39m0\u001b[39m]\n\u001b[0;32m--> 118\u001b[0m     \u001b[39mreturn\u001b[39;00m sync(\u001b[39mself\u001b[39;49m\u001b[39m.\u001b[39;49mloop, func, \u001b[39m*\u001b[39;49margs, \u001b[39m*\u001b[39;49m\u001b[39m*\u001b[39;49mkwargs)\n",
      "File \u001b[0;32m~/miniconda3/envs/promptflow/lib/python3.11/site-packages/fsspec/asyn.py:103\u001b[0m, in \u001b[0;36msync\u001b[0;34m(loop, func, timeout, *args, **kwargs)\u001b[0m\n\u001b[1;32m    101\u001b[0m     \u001b[39mraise\u001b[39;00m FSTimeoutError \u001b[39mfrom\u001b[39;00m \u001b[39mreturn_result\u001b[39;00m\n\u001b[1;32m    102\u001b[0m \u001b[39melif\u001b[39;00m \u001b[39misinstance\u001b[39m(return_result, \u001b[39mBaseException\u001b[39;00m):\n\u001b[0;32m--> 103\u001b[0m     \u001b[39mraise\u001b[39;00m return_result\n\u001b[1;32m    104\u001b[0m \u001b[39melse\u001b[39;00m:\n\u001b[1;32m    105\u001b[0m     \u001b[39mreturn\u001b[39;00m return_result\n",
      "File \u001b[0;32m~/miniconda3/envs/promptflow/lib/python3.11/site-packages/fsspec/asyn.py:56\u001b[0m, in \u001b[0;36m_runner\u001b[0;34m(event, coro, result, timeout)\u001b[0m\n\u001b[1;32m     54\u001b[0m     coro \u001b[39m=\u001b[39m asyncio\u001b[39m.\u001b[39mwait_for(coro, timeout\u001b[39m=\u001b[39mtimeout)\n\u001b[1;32m     55\u001b[0m \u001b[39mtry\u001b[39;00m:\n\u001b[0;32m---> 56\u001b[0m     result[\u001b[39m0\u001b[39m] \u001b[39m=\u001b[39m \u001b[39mawait\u001b[39;00m coro\n\u001b[1;32m     57\u001b[0m \u001b[39mexcept\u001b[39;00m \u001b[39mException\u001b[39;00m \u001b[39mas\u001b[39;00m ex:\n\u001b[1;32m     58\u001b[0m     result[\u001b[39m0\u001b[39m] \u001b[39m=\u001b[39m ex\n",
      "File \u001b[0;32m~/miniconda3/envs/promptflow/lib/python3.11/site-packages/azureml/fsspec/spec.py:397\u001b[0m, in \u001b[0;36mAzureMachineLearningFileSystem._open\u001b[0;34m(self, path, mode, **kwargs)\u001b[0m\n\u001b[1;32m    392\u001b[0m     activityLogger\u001b[39m.\u001b[39mactivity_info[\u001b[39m'\u001b[39m\u001b[39mmessage\u001b[39m\u001b[39m'\u001b[39m] \u001b[39m=\u001b[39m \u001b[39mgetattr\u001b[39m(\n\u001b[1;32m    393\u001b[0m         e, COMPLIANT_MESSAGE_KEY, \u001b[39mstr\u001b[39m(e))\n\u001b[1;32m    394\u001b[0m     activityLogger\u001b[39m.\u001b[39mactivity_info[\u001b[39m'\u001b[39m\u001b[39mouter_error_code\u001b[39m\u001b[39m'\u001b[39m] \u001b[39m=\u001b[39m \u001b[39mgetattr\u001b[39m(\n\u001b[1;32m    395\u001b[0m         e, OUTER_ERROR_CODE_KEY, \u001b[39m'\u001b[39m\u001b[39m'\u001b[39m)\n\u001b[0;32m--> 397\u001b[0m _reclassify_rslex_error(e)\n",
      "File \u001b[0;32m~/miniconda3/envs/promptflow/lib/python3.11/site-packages/azureml/dataprep/api/mltable/_validation_and_error_handler.py:82\u001b[0m, in \u001b[0;36m_reclassify_rslex_error\u001b[0;34m(err)\u001b[0m\n\u001b[1;32m     73\u001b[0m \u001b[39m# first check remaps errors from RSlex to UserErrorExceptions in following ways:\u001b[39;00m\n\u001b[1;32m     74\u001b[0m \u001b[39m# - is a DataPrepException whose error_code attribute is in _DATAPREP_EXECEPTION_USER_ERROR_CODES or whose message\u001b[39;00m\n\u001b[1;32m     75\u001b[0m \u001b[39m#   attribute contains am error value in _RSLEX_USER_ERROR_VALUES\u001b[39;00m\n\u001b[1;32m     76\u001b[0m \u001b[39m# - error message contains any element in _RSLEX_USER_ERROR_MSGS\u001b[39;00m\n\u001b[1;32m     77\u001b[0m \u001b[39mif\u001b[39;00m ((\u001b[39misinstance\u001b[39m(err, DataPrepException) \u001b[39mor\u001b[39;00m \u001b[39mhasattr\u001b[39m(err, \u001b[39m'\u001b[39m\u001b[39merror_code\u001b[39m\u001b[39m'\u001b[39m))\n\u001b[1;32m     78\u001b[0m     \u001b[39mand\u001b[39;00m err\u001b[39m.\u001b[39merror_code \u001b[39min\u001b[39;00m _DATAPREP_EXECEPTION_USER_ERROR_CODES) \\\n\u001b[1;32m     79\u001b[0m         \u001b[39mor\u001b[39;00m \u001b[39many\u001b[39m(user_err_msg \u001b[39min\u001b[39;00m err_msg \u001b[39mfor\u001b[39;00m user_err_msg \u001b[39min\u001b[39;00m _RSLEX_USER_ERROR_MSGS) \\\n\u001b[1;32m     80\u001b[0m         \u001b[39mor\u001b[39;00m (\u001b[39misinstance\u001b[39m(err, DataPrepException)\n\u001b[1;32m     81\u001b[0m             \u001b[39mand\u001b[39;00m \u001b[39many\u001b[39m(user_error_value \u001b[39min\u001b[39;00m err\u001b[39m.\u001b[39mmessage \u001b[39mfor\u001b[39;00m user_error_value \u001b[39min\u001b[39;00m _RSLEX_USER_ERROR_VALUES)):\n\u001b[0;32m---> 82\u001b[0m     \u001b[39mraise\u001b[39;00m UserErrorException(err)\n\u001b[1;32m     83\u001b[0m \u001b[39mif\u001b[39;00m \u001b[39m'\u001b[39m\u001b[39mPython expression parse error\u001b[39m\u001b[39m'\u001b[39m \u001b[39min\u001b[39;00m err_msg:\n\u001b[1;32m     84\u001b[0m     \u001b[39mraise\u001b[39;00m UserErrorException(\u001b[39mf\u001b[39m\u001b[39m'\u001b[39m\u001b[39mNot a valid python expression in filter. \u001b[39m\u001b[39m{\u001b[39;00merr_msg\u001b[39m}\u001b[39;00m\u001b[39m'\u001b[39m)\n",
      "\u001b[0;31mUserErrorException\u001b[0m: \nError Code: UserError\nError Message: StreamError(NotFound)| session_id=l_33e0c6d6-a2b5-4ff5-a57b-58a86b479e83"
     ]
    }
   ],
   "source": [
    "from PIL import Image\n",
    "int = 0\n",
    "with fs.open(str(df.image_url[int])) as f:\n",
    "    img = Image.open(f)\n",
    "    img.show()"
   ]
  },
  {
   "cell_type": "code",
   "execution_count": 24,
   "metadata": {},
   "outputs": [
    {
     "data": {
      "text/plain": [
       "'workspaceblobstore/LocalUpload/e96e8f00a277573a37b4ac32dec5a077/data//images/Abyssinian_1'"
      ]
     },
     "execution_count": 24,
     "metadata": {},
     "output_type": "execute_result"
    }
   ],
   "source": [
    "str(df.image_url[int])"
   ]
  },
  {
   "cell_type": "code",
   "execution_count": 26,
   "metadata": {},
   "outputs": [
    {
     "data": {
      "text/plain": [
       "['LocalUpload/', 'azureml/']"
      ]
     },
     "execution_count": 26,
     "metadata": {},
     "output_type": "execute_result"
    }
   ],
   "source": [
    "fs.ls()"
   ]
  },
  {
   "cell_type": "code",
   "execution_count": null,
   "metadata": {},
   "outputs": [],
   "source": []
  }
 ],
 "metadata": {
  "kernelspec": {
   "display_name": "promptflow",
   "language": "python",
   "name": "python3"
  },
  "language_info": {
   "codemirror_mode": {
    "name": "ipython",
    "version": 3
   },
   "file_extension": ".py",
   "mimetype": "text/x-python",
   "name": "python",
   "nbconvert_exporter": "python",
   "pygments_lexer": "ipython3",
   "version": "3.11.4"
  },
  "orig_nbformat": 4
 },
 "nbformat": 4,
 "nbformat_minor": 2
}
