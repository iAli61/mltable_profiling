{
 "cells": [
  {
   "cell_type": "code",
   "execution_count": 14,
   "metadata": {},
   "outputs": [
    {
     "name": "stderr",
     "output_type": "stream",
     "text": [
      "Found the config file in: /mnt/batch/tasks/shared/LS_root/mounts/clusters/alibina8/code/Users/alibina/config.json\n"
     ]
    },
    {
     "name": "stdout",
     "output_type": "stream",
     "text": [
      "MLClient(credential=<azure.identity._credentials.client_secret.ClientSecretCredential object at 0x7fc8b8176ef0>,\n",
      "         subscription_id=f804f2da-c27b-45ac-bf80-16d4d331776d,\n",
      "         resource_group_name=rg-mlopsv2clas-505prod,\n",
      "         workspace_name=mlw-mlopsv2clas-505prod)\n"
     ]
    }
   ],
   "source": [
    "from azure.ai.ml import MLClient, command, Input\n",
    "from azure.ai.ml.entities import Environment, BuildContext\n",
    "\n",
    "from azure.identity import ClientSecretCredential, DefaultAzureCredential\n",
    "\n",
    "from pathlib import Path\n",
    "\n",
    "# read .env file as environment variables\n",
    "with open(\"/home/azureuser/cloudfiles/code/Users/alibina/Mlops-cli2-classic/data-science/experiment/.env\", \"r\") as f:\n",
    "    for line in f:\n",
    "        if line.strip() != \"\":\n",
    "            key, value = line.strip().split(\"=\", 1)\n",
    "            os.environ[key] = value\n",
    "\n",
    "# instantiate the MLClient using service principal authentication\n",
    "credential = ClientSecretCredential(client_id=os.environ[\"AZURE_CLIENT_ID\"],\n",
    "                                    client_secret=os.environ[\"AZURE_CLIENT_SECRET\"],\n",
    "                                    tenant_id=os.environ[\"AZURE_TENANT_ID\"])\n",
    "\n",
    "ml_client = MLClient.from_config(credential=credential)\n",
    "print(ml_client)\n"
   ]
  },
  {
   "cell_type": "code",
   "execution_count": 15,
   "metadata": {},
   "outputs": [
    {
     "name": "stdout",
     "output_type": "stream",
     "text": [
      "Found existing cluster, use it.\n"
     ]
    }
   ],
   "source": [
    "# creat a aml cluster\n",
    "cpu_cluster_name = \"cpu-cluster\"\n",
    "try:\n",
    "    cpu_cluster = ml_client.compute.get(cpu_cluster_name)\n",
    "    print(\"Found existing cluster, use it.\")\n",
    "except:\n",
    "    print(\"Creating a new cluster...\")\n",
    "    compute_config = ml_client.compute.configuration.CpuClusterConfiguration(vm_size=\"STANDARD_D2_V2\")\n",
    "    cpu_cluster = ml_client.compute.create(cpu_cluster_name, compute_config)\n",
    "    cpu_cluster.wait_for_completion(show_output=True)\n",
    "\n",
    "    "
   ]
  },
  {
   "cell_type": "code",
   "execution_count": 16,
   "metadata": {},
   "outputs": [
    {
     "name": "stderr",
     "output_type": "stream",
     "text": [
      "Warning: the provided asset name 'mltable_env_vinimage' will not be used for anonymous registration\n",
      "Warning: the provided asset name 'mltable_env_vinimage' will not be used for anonymous registration\n",
      "\u001b[32mUploading env (0.0 MBs): 100%|██████████████████████████████████████████████████████████████████████████████████████████████████████████████████████████████████████████████████████████████████████████████████████████████████████████████████████████████████████████████████████████████████████████████████████████████████████████████████████████████████████████████████████████████████████████████████████████████████████████████████████████████████████████████████████████████████████████████████████████████████████████████████████████████████████████████████████████████████████████████████████████████████████████████████████████████████████████████████████████████████████████████████████████████████████████████████████████████████████████████████████████████████████████████████████████████████████████████████████████████████████████████████████████████████████████████████████████████████████████████████████████████████████████████████████████████████| 1419/1419 [00:00<00:00, 42222.14it/s]\u001b[0m\n",
      "\u001b[39m\n",
      "\n"
     ]
    },
    {
     "data": {
      "text/html": [
       "<table style=\"width:100%\"><tr><th>Experiment</th><th>Name</th><th>Type</th><th>Status</th><th>Details Page</th></tr><tr><td>basic-job</td><td>frosty_candle_bcpsp0wp7x</td><td>command</td><td>Starting</td><td><a href=\"https://ml.azure.com/runs/frosty_candle_bcpsp0wp7x?wsid=/subscriptions/f804f2da-c27b-45ac-bf80-16d4d331776d/resourcegroups/rg-mlopsv2clas-505prod/workspaces/mlw-mlopsv2clas-505prod&amp;tid=16b3c013-d300-468d-ac64-7eda0820b6d3\" target=\"_blank\" rel=\"noopener\">Link to Azure Machine Learning studio</a></td></tr></table>"
      ],
      "text/plain": [
       "Command({'parameters': {}, 'init': False, 'type': 'command', 'status': 'Starting', 'log_files': None, 'name': 'frosty_candle_bcpsp0wp7x', 'description': None, 'tags': {}, 'properties': {'mlflow.source.git.repoURL': 'https://github.com/iAli61/Mlops-cli2-classic.git', 'mlflow.source.git.branch': 'main', 'mlflow.source.git.commit': '9c74afa562bf340fdb374f87c0e86ea16473da99', 'azureml.git.dirty': 'True', '_azureml.ComputeTargetType': 'amlctrain', 'ContentSnapshotId': '9b13932f-730f-4f39-87f7-e5bb44200245'}, 'id': '/subscriptions/f804f2da-c27b-45ac-bf80-16d4d331776d/resourceGroups/rg-mlopsv2clas-505prod/providers/Microsoft.MachineLearningServices/workspaces/mlw-mlopsv2clas-505prod/jobs/frosty_candle_bcpsp0wp7x', 'Resource__source_path': None, 'base_path': '/mnt/batch/tasks/shared/LS_root/mounts/clusters/alibina8/code/Users/alibina/Mlops-cli2-classic/data-science/experiment/bosch/data_managment/jobs/basic-job', 'creation_context': <azure.ai.ml.entities._system_data.SystemData object at 0x7fc8768eb9d0>, 'serialize': <msrest.serialization.Serializer object at 0x7fc8747185e0>, 'allowed_keys': {}, 'key_restriction': False, 'logger': <Logger attr_dict (WARNING)>, 'display_name': 'frosty_candle_bcpsp0wp7x', 'experiment_name': 'basic-job', 'compute': 'cpu-cluster', 'services': {'Tracking': <azure.ai.ml.entities._job.job_service.JobService object at 0x7fc876801cf0>, 'Studio': <azure.ai.ml.entities._job.job_service.JobService object at 0x7fc8768eb520>}, 'comment': None, 'job_inputs': {'my_mltable': {'type': 'mltable', 'path': 'multistacc_mltable_validation:2', 'mode': 'ro_mount'}}, 'job_outputs': {'default': {'type': 'uri_folder', 'path': 'azureml://datastores/workspaceartifactstore/ExperimentRun/dcid.frosty_candle_bcpsp0wp7x', 'mode': 'rw_mount'}}, 'inputs': {'my_mltable': <azure.ai.ml.entities._job.pipeline._io.base.NodeInput object at 0x7fc874719690>}, 'outputs': {'default': <azure.ai.ml.entities._job.pipeline._io.base.NodeOutput object at 0x7fc87471b970>}, 'component': CommandComponent({'auto_increment_version': True, 'source': 'REMOTE.WORKSPACE.JOB', 'is_anonymous': False, 'name': 'frosty_candle_bcpsp0wp7x', 'description': None, 'tags': {}, 'properties': {}, 'id': None, 'Resource__source_path': None, 'base_path': PosixPath('.'), 'creation_context': <azure.ai.ml.entities._system_data.SystemData object at 0x7fc8768eb9d0>, 'serialize': <msrest.serialization.Serializer object at 0x7fc87471b940>, 'command': 'python read-mltable.py --input ${{inputs.my_mltable}}', 'code': '/subscriptions/f804f2da-c27b-45ac-bf80-16d4d331776d/resourceGroups/rg-mlopsv2clas-505prod/providers/Microsoft.MachineLearningServices/workspaces/mlw-mlopsv2clas-505prod/codes/04ffbdd8-b629-4df8-a597-39ad3566630c/versions/1', 'environment_variables': {}, 'environment': '/subscriptions/f804f2da-c27b-45ac-bf80-16d4d331776d/resourceGroups/rg-mlopsv2clas-505prod/providers/Microsoft.MachineLearningServices/workspaces/mlw-mlopsv2clas-505prod/environments/mltable_env_vinimage/versions/2', 'distribution': None, 'resources': None, 'version': None, 'latest_version': None, 'schema': None, 'type': 'command', 'display_name': 'frosty_candle_bcpsp0wp7x', 'is_deterministic': True, 'inputs': {'my_mltable': {'type': 'mltable', 'path': '/subscriptions/f804f2da-c27b-45ac-bf80-16d4d331776d/resourceGroups/rg-mlopsv2clas-505prod/providers/Microsoft.MachineLearningServices/workspaces/mlw-mlopsv2clas-505prod/data/multistacc_mltable_validation/versions/2', 'mode': 'ro_mount'}}, 'outputs': {'default': {'type': 'uri_folder', 'path': 'azureml://datastores/workspaceartifactstore/ExperimentRun/dcid.frosty_candle_bcpsp0wp7x', 'mode': 'rw_mount'}}, 'yaml_str': None, 'other_parameter': {'status': 'Starting', 'parameters': {}}}), 'referenced_control_flow_node_instance_id': None, 'kwargs': {'services': {'Tracking': <azure.ai.ml.entities._job.job_service.JobService object at 0x7fc876801cf0>, 'Studio': <azure.ai.ml.entities._job.job_service.JobService object at 0x7fc8768eb520>}, 'status': 'Starting', 'creation_context': <azure.ai.ml.entities._system_data.SystemData object at 0x7fc8768eb9d0>}, 'instance_id': 'c82bf768-b9cc-4c7b-a93f-b668f8373d44', 'source': 'BUILDER', 'limits': None, 'identity': None, 'distribution': None, 'environment_variables': {}, 'environment': 'mltable_env_vinimage:2', 'resources': {'instance_count': 1, 'shm_size': '2g'}, 'swept': False})"
      ]
     },
     "execution_count": 16,
     "metadata": {},
     "output_type": "execute_result"
    }
   ],
   "source": [
    "\n",
    "# get the data asset\n",
    "data_asset = ml_client.data.get(name=\"multistacc_mltable_validation\", version=\"2\")\n",
    "# enviromment =  ml_client.environments.get(name=\"mltable_env\", version=\"11\")\n",
    "enviromment = Environment(\n",
    "    build=BuildContext(path=\"env\"),\n",
    "    name=\"mltable_env_vinimage\",\n",
    "    description=\"Environment created from a Docker context.\",\n",
    ")\n",
    "\n",
    "job = command(\n",
    "    command=\"python read-mltable.py --input ${{inputs.my_mltable}}\",\n",
    "    inputs={\n",
    "        \"my_mltable\": Input(type=\"mltable\",path=data_asset.id)\n",
    "    },\n",
    "    compute=\"cpu-cluster\",\n",
    "    # environment=enviromment,\n",
    "    environment=enviromment,\n",
    "    code=\"./src\"\n",
    ")\n",
    "\n",
    "ml_client.jobs.create_or_update(job)"
   ]
  },
  {
   "cell_type": "code",
   "execution_count": null,
   "metadata": {},
   "outputs": [],
   "source": []
  }
 ],
 "metadata": {
  "kernelspec": {
   "display_name": "azureml_py310_sdkv2",
   "language": "python",
   "name": "python3"
  },
  "language_info": {
   "codemirror_mode": {
    "name": "ipython",
    "version": 3
   },
   "file_extension": ".py",
   "mimetype": "text/x-python",
   "name": "python",
   "nbconvert_exporter": "python",
   "pygments_lexer": "ipython3",
   "version": "3.10.6"
  },
  "orig_nbformat": 4
 },
 "nbformat": 4,
 "nbformat_minor": 2
}
