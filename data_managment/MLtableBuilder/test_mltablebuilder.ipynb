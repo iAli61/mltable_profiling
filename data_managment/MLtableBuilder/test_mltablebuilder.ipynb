{
 "cells": [
  {
   "cell_type": "code",
   "execution_count": null,
   "metadata": {},
   "outputs": [],
   "source": [
    "# env variables: AZURE_CLIENT_ID, AZURE_CLIENT_ID, AZURE_TENANT_ID, RESOURCE_GROUP, SUBSCRIPTION_ID\n",
    "\n",
    "# url example: 'https://<storage_account_name>.blob.core.windows.net/<container_name>/<path>'\n",
    "\n",
    "# aml url example: 'azureml://subscriptions/<subscription_id>/resourcegroups/<resource_group_name>/workspaces/<workspace_name>/datastores/<datastore_name>/paths/<path>'\n",
    "\n",
    "# image_urls example: ['url', 'url']\n",
    "# Labels example: [{'task1': url, 'task2': 'url'}, {'task1': url, 'task3': 'url', 'task2': 'url'}]\n",
    "# tags example: [{'tag1': 'value1:string', 'tag2': 'value2:string'}, {'tag1': 'value1:string', 'tag2': 'value2:string'}]"
   ]
  },
  {
   "cell_type": "code",
   "execution_count": 1,
   "metadata": {},
   "outputs": [],
   "source": [
    "import MLtableBuilder as mb"
   ]
  },
  {
   "cell_type": "code",
   "execution_count": 2,
   "metadata": {},
   "outputs": [
    {
     "data": {
      "text/plain": [
       "<module 'MLtableBuilder' from '/mnt/batch/tasks/shared/LS_root/mounts/clusters/alibina8/code/Users/alibina/Mlops-cli2-classic/data-science/experiment/bosch/data_managment/MLtableBuilder/MLtableBuilder.py'>"
      ]
     },
     "execution_count": 2,
     "metadata": {},
     "output_type": "execute_result"
    }
   ],
   "source": [
    "# reload the module if it has been modified\n",
    "import importlib\n",
    "importlib.reload(mb)"
   ]
  },
  {
   "cell_type": "code",
   "execution_count": 3,
   "metadata": {},
   "outputs": [],
   "source": [
    "# add clinent id, client secret, tenant id, aml workspace, resource group, subscription id to the environment variables\n",
    "import os\n",
    "# os.environ[\"AZURE_CLIENT_ID\"] = \"\"\n",
    "# os.environ[\"AZURE_CLIENT_SECRET\"] = \"\"\n",
    "# os.environ[\"AZURE_TENANT_ID\"] = \"\"\n",
    "# read .env file as environment variables\n",
    "with open(\"../../../.env\", \"r\") as f:\n",
    "    for line in f:\n",
    "        if line.strip() != \"\":\n",
    "            key, value = line.strip().split(\"=\", 1)\n",
    "            os.environ[key] = value"
   ]
  },
  {
   "cell_type": "code",
   "execution_count": 4,
   "metadata": {},
   "outputs": [
    {
     "data": {
      "text/html": [
       "<div>\n",
       "<style scoped>\n",
       "    .dataframe tbody tr th:only-of-type {\n",
       "        vertical-align: middle;\n",
       "    }\n",
       "\n",
       "    .dataframe tbody tr th {\n",
       "        vertical-align: top;\n",
       "    }\n",
       "\n",
       "    .dataframe thead th {\n",
       "        text-align: right;\n",
       "    }\n",
       "</style>\n",
       "<table border=\"1\" class=\"dataframe\">\n",
       "  <thead>\n",
       "    <tr style=\"text-align: right;\">\n",
       "      <th></th>\n",
       "      <th>image_url_aml</th>\n",
       "      <th>classifications</th>\n",
       "      <th>label</th>\n",
       "      <th>image_url_blob</th>\n",
       "      <th>storage_account_name</th>\n",
       "      <th>container_name</th>\n",
       "      <th>path</th>\n",
       "    </tr>\n",
       "  </thead>\n",
       "  <tbody>\n",
       "    <tr>\n",
       "      <th>0</th>\n",
       "      <td>azureml://subscriptions/f804f2da-c27b-45ac-bf8...</td>\n",
       "      <td>can</td>\n",
       "      <td>validation</td>\n",
       "      <td>https://stmlopsv2clas2.blob.core.windows.net/c...</td>\n",
       "      <td>stmlopsv2clas2</td>\n",
       "      <td>stacccontainera</td>\n",
       "      <td>UI/2023-02-01_192745_UTC/can/1.jpg</td>\n",
       "    </tr>\n",
       "    <tr>\n",
       "      <th>1</th>\n",
       "      <td>azureml://subscriptions/f804f2da-c27b-45ac-bf8...</td>\n",
       "      <td>can</td>\n",
       "      <td>validation</td>\n",
       "      <td>https://stmlopsv2clas2.blob.core.windows.net/c...</td>\n",
       "      <td>stmlopsv2clas2</td>\n",
       "      <td>stacccontainera</td>\n",
       "      <td>UI/2023-02-01_192745_UTC/can/14.jpg</td>\n",
       "    </tr>\n",
       "    <tr>\n",
       "      <th>2</th>\n",
       "      <td>azureml://subscriptions/f804f2da-c27b-45ac-bf8...</td>\n",
       "      <td>can</td>\n",
       "      <td>validation</td>\n",
       "      <td>https://stmlopsv2clas2.blob.core.windows.net/c...</td>\n",
       "      <td>stmlopsv2clas2</td>\n",
       "      <td>stacccontainera</td>\n",
       "      <td>UI/2023-02-01_192745_UTC/can/19.jpg</td>\n",
       "    </tr>\n",
       "    <tr>\n",
       "      <th>3</th>\n",
       "      <td>azureml://subscriptions/f804f2da-c27b-45ac-bf8...</td>\n",
       "      <td>can</td>\n",
       "      <td>validation</td>\n",
       "      <td>https://stmlopsv2clas2.blob.core.windows.net/c...</td>\n",
       "      <td>stmlopsv2clas2</td>\n",
       "      <td>stacccontainera</td>\n",
       "      <td>UI/2023-02-01_192745_UTC/can/23.jpg</td>\n",
       "    </tr>\n",
       "    <tr>\n",
       "      <th>4</th>\n",
       "      <td>azureml://subscriptions/f804f2da-c27b-45ac-bf8...</td>\n",
       "      <td>can</td>\n",
       "      <td>validation</td>\n",
       "      <td>https://stmlopsv2clas2.blob.core.windows.net/c...</td>\n",
       "      <td>stmlopsv2clas2</td>\n",
       "      <td>stacccontainera</td>\n",
       "      <td>UI/2023-02-01_192745_UTC/can/28.jpg</td>\n",
       "    </tr>\n",
       "  </tbody>\n",
       "</table>\n",
       "</div>"
      ],
      "text/plain": [
       "                                       image_url_aml classifications  \\\n",
       "0  azureml://subscriptions/f804f2da-c27b-45ac-bf8...             can   \n",
       "1  azureml://subscriptions/f804f2da-c27b-45ac-bf8...             can   \n",
       "2  azureml://subscriptions/f804f2da-c27b-45ac-bf8...             can   \n",
       "3  azureml://subscriptions/f804f2da-c27b-45ac-bf8...             can   \n",
       "4  azureml://subscriptions/f804f2da-c27b-45ac-bf8...             can   \n",
       "\n",
       "        label                                     image_url_blob  \\\n",
       "0  validation  https://stmlopsv2clas2.blob.core.windows.net/c...   \n",
       "1  validation  https://stmlopsv2clas2.blob.core.windows.net/c...   \n",
       "2  validation  https://stmlopsv2clas2.blob.core.windows.net/c...   \n",
       "3  validation  https://stmlopsv2clas2.blob.core.windows.net/c...   \n",
       "4  validation  https://stmlopsv2clas2.blob.core.windows.net/c...   \n",
       "\n",
       "  storage_account_name   container_name                                 path  \n",
       "0       stmlopsv2clas2  stacccontainera   UI/2023-02-01_192745_UTC/can/1.jpg  \n",
       "1       stmlopsv2clas2  stacccontainera  UI/2023-02-01_192745_UTC/can/14.jpg  \n",
       "2       stmlopsv2clas2  stacccontainera  UI/2023-02-01_192745_UTC/can/19.jpg  \n",
       "3       stmlopsv2clas2  stacccontainera  UI/2023-02-01_192745_UTC/can/23.jpg  \n",
       "4       stmlopsv2clas2  stacccontainera  UI/2023-02-01_192745_UTC/can/28.jpg  "
      ]
     },
     "execution_count": 4,
     "metadata": {},
     "output_type": "execute_result"
    }
   ],
   "source": [
    "# read csv file\n",
    "import pandas as pd\n",
    "# df = pd.read_csv(\"./validation_annotations.csv\")\n",
    "# df.columns = [\"image_url_aml\", \"classifications\"]\n",
    "# df['label'] = \"validation\"\n",
    "df = pd.read_csv(\"./validation_annotations_absoult_path.csv\")\n",
    "df.head()"
   ]
  },
  {
   "cell_type": "code",
   "execution_count": 5,
   "metadata": {},
   "outputs": [],
   "source": [
    "# # 'azureml://subscriptions/<subscription_name>/resourcegroups/<resource_group_name>/workspaces/<workspace_name>/datastores/<datastore_name>/paths/<path>\n",
    "# azureml://subscriptions/f804f2da-c27b-45ac-bf80-16d4d331776d/resourcegroups/rg-mlopsv2clas-505prod/workspaces/mlw-mlopsv2clas-505prod/datastores/stacccontainera/paths/UI/2023-02-01_192745_UTC/can/1.jpg\n",
    "# azureml://subscriptions/f804f2da-c27b-45ac-bf80-16d4d331776d/resourcegroups/rg-mlopsv2clas-505prod/workspaces/mlw-mlopsv2clas-505prod/datastores/stmlopsv2clas2_containera/paths/1.jpg\n",
    "# https://<storage_account_name>.blob.core.windows.net/<container_name>/<path>\n",
    "\n",
    "# # #  create a dictionary of for each image containing the datastore_name, path, and the image url\n",
    "# image_urls = []\n",
    "# storage_account_names = []\n",
    "# paths = []\n",
    "# container_names = []\n",
    "# for i in range(len(df)):\n",
    "#     image_url_aml = df[\"image_url_aml\"][i]\n",
    "#     # get the path\n",
    "#     path = image_url_aml.split(\"paths/\", 1)[-1]\n",
    "#     # get the datastore name\n",
    "#     datastore_name = image_url_aml.split(\"datastores/\", 1)[1].split(\"/paths/\", 1)[0]\n",
    "#     ds = table.aml_client.datastores.get(datastore_name)\n",
    "#     storage_account_name = ds.account_name\n",
    "#     container_name = ds.container_name\n",
    "#     image_url = f\"https://{storage_account_name}.blob.core.windows.net/{container_name}/{path}\"\n",
    "#     image_urls.append(image_url)\n",
    "#     storage_account_names.append(storage_account_name)\n",
    "#     container_names.append(datastore_name)\n",
    "#     paths.append(path)\n",
    "\n",
    "# df['image_url_blob'] = image_urls\n",
    "# df['storage_account_name'] = storage_account_names\n",
    "# df['container_name'] = container_names\n",
    "# df['path'] = paths\n",
    "# df.head()\n",
    "# # remove the image_url_aml column\n",
    "# # df = df.drop(columns=[\"image_url_aml\"])\n",
    "# # save to csv file\n",
    "# df.to_csv(\"./validation_annotations_absoult_path.csv\", index=False)\n",
    "# df.head()"
   ]
  },
  {
   "cell_type": "code",
   "execution_count": 6,
   "metadata": {},
   "outputs": [],
   "source": [
    "tasklist = [\"classifications\"]\n",
    "taglist = [\"label\"]\n",
    "table = mb.MLtableBuilder(table_name=\"validation_annotations_absoult_path\",\n",
    "                          table_version=6,\n",
    "                          image_urls=df.image_url_blob.tolist(), \n",
    "                          Labels=[{col: df[col][i] for col in df.columns if col in tasklist} for i in range(len(df))],\n",
    "                          tags=[{col: df[col][i] for col in df.columns if col in taglist} for i in range(len(df))],\n",
    "                          aml_workspace=\"mlw-mlopsv2clas-505prod\")"
   ]
  },
  {
   "cell_type": "code",
   "execution_count": 7,
   "metadata": {},
   "outputs": [
    {
     "data": {
      "text/plain": [
       "True"
      ]
     },
     "execution_count": 7,
     "metadata": {},
     "output_type": "execute_result"
    }
   ],
   "source": [
    "table.check_table_name()"
   ]
  },
  {
   "cell_type": "code",
   "execution_count": 8,
   "metadata": {},
   "outputs": [
    {
     "name": "stdout",
     "output_type": "stream",
     "text": [
      "The jsonl file is created: ./mltable/validation_annotations_absoult_path.jsonl\n"
     ]
    },
    {
     "data": {
      "text/plain": [
       "True"
      ]
     },
     "execution_count": 8,
     "metadata": {},
     "output_type": "execute_result"
    }
   ],
   "source": [
    "table.create_jsonl()"
   ]
  },
  {
   "cell_type": "code",
   "execution_count": 9,
   "metadata": {},
   "outputs": [],
   "source": [
    "table.create_ml_table_file()"
   ]
  },
  {
   "cell_type": "code",
   "execution_count": 10,
   "metadata": {},
   "outputs": [
    {
     "data": {
      "text/plain": [
       "Data({'skip_validation': False, 'mltable_schema_url': None, 'referenced_uris': None, 'type': 'mltable', 'is_anonymous': False, 'auto_increment_version': False, 'name': 'validation_annotations_absoult_path', 'description': 'MLTable dataset', 'tags': {}, 'properties': {}, 'id': None, 'Resource__source_path': None, 'base_path': '/mnt/batch/tasks/shared/LS_root/mounts/clusters/alibina8/code/Users/alibina/Mlops-cli2-classic/data-science/experiment/bosch/data_managment/MLtableBuilder', 'creation_context': None, 'serialize': <msrest.serialization.Serializer object at 0x7f022165e170>, 'version': '6', 'latest_version': None, 'path': PosixPath('/mnt/batch/tasks/shared/LS_root/mounts/clusters/alibina8/code/Users/alibina/Mlops-cli2-classic/data-science/experiment/bosch/data_managment/MLtableBuilder/mltable'), 'datastore': None})"
      ]
     },
     "execution_count": 10,
     "metadata": {},
     "output_type": "execute_result"
    }
   ],
   "source": [
    "table.create_aml_table()"
   ]
  },
  {
   "cell_type": "code",
   "execution_count": 11,
   "metadata": {},
   "outputs": [
    {
     "name": "stdout",
     "output_type": "stream",
     "text": [
      "The jsonl file is created: ./mltable/validation_annotations_absoult_path.jsonl\n"
     ]
    },
    {
     "name": "stderr",
     "output_type": "stream",
     "text": [
      "\u001b[32mUploading mltable (0.03 MBs): 100%|██████████████████████████████████████████████████████████████████████████████████████████████████████████████████████████████████████████████████████████████████████████████████████████████████████████████████████████████████████████████████████████████████████████████████████████████████████████████████████████████████████████████████████████████████████████████████████████████████████████████████████████████████████████████████████████████████████████████████████████████████████████████████████████████████████████████████████████████████████████████████████████████████████████████████████████████████████████████████████████████████████████████████████████████████████████████████████████████████████████████████████████████████████████████████████████████████████████████████████████████████████████████████████████████████████████████████████████████████████████████████████████████████████████████████████████| 29022/29022 [00:00<00:00, 709853.46it/s]\u001b[0m\n",
      "\u001b[39m\n",
      "\n"
     ]
    }
   ],
   "source": [
    "table.upload_table()"
   ]
  },
  {
   "cell_type": "code",
   "execution_count": null,
   "metadata": {},
   "outputs": [],
   "source": []
  }
 ],
 "metadata": {
  "kernelspec": {
   "display_name": "azureml_py310_sdkv2",
   "language": "python",
   "name": "python3"
  },
  "language_info": {
   "codemirror_mode": {
    "name": "ipython",
    "version": 3
   },
   "file_extension": ".py",
   "mimetype": "text/x-python",
   "name": "python",
   "nbconvert_exporter": "python",
   "pygments_lexer": "ipython3",
   "version": "3.10.6"
  },
  "orig_nbformat": 4,
  "vscode": {
   "interpreter": {
    "hash": "2139c70ac98f3202d028164a545621647e07f47fd6f5d8ac55cf952bf7c15ed1"
   }
  }
 },
 "nbformat": 4,
 "nbformat_minor": 2
}
