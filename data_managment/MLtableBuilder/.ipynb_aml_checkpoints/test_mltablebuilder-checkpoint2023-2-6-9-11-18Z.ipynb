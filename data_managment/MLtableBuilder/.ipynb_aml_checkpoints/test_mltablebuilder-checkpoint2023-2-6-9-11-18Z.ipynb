{
 "cells": [
  {
   "cell_type": "code",
   "execution_count": 1,
   "metadata": {},
   "outputs": [],
   "source": [
    "import MLtableBuilder as mb"
   ]
  },
  {
   "cell_type": "code",
   "execution_count": 11,
   "metadata": {},
   "outputs": [
    {
     "data": {
      "text/plain": [
       "<module 'MLtableBuilder' from '/mnt/batch/tasks/shared/LS_root/mounts/clusters/alibina8/code/Users/alibina/Mlops-cli2-classic/data-science/experiment/bosch/data_managment/MLtableBuilder/MLtableBuilder.py'>"
      ]
     },
     "execution_count": 11,
     "metadata": {},
     "output_type": "execute_result"
    }
   ],
   "source": [
    "# reload the module if it has been modified\n",
    "import importlib\n",
    "importlib.reload(mb)"
   ]
  },
  {
   "cell_type": "code",
   "execution_count": 3,
   "metadata": {},
   "outputs": [],
   "source": [
    "# add clinent id, client secret, tenant id, aml workspace, resource group, subscription id to the environment variables\n",
    "import os\n",
    "# os.environ[\"AZURE_CLIENT_ID\"] = \"\"\n",
    "# os.environ[\"AZURE_CLIENT_SECRET\"] = \"\"\n",
    "# os.environ[\"AZURE_TENANT_ID\"] = \"\"\n",
    "# read .env file as environment variables\n",
    "with open(\"/home/azureuser/cloudfiles/code/Users/alibina/Mlops-cli2-classic/data-science/experiment/.env\", \"r\") as f:\n",
    "    for line in f:\n",
    "        if line.strip() != \"\":\n",
    "            key, value = line.strip().split(\"=\", 1)\n",
    "            os.environ[key] = value\n",
    "os.environ[\"RESOURCE_GROUP\"] = \"rg-mlopsv2clas-505prod\"\n",
    "os.environ[\"SUBSCRIPTION_ID\"] = \"f804f2da-c27b-45ac-bf80-16d4d331776d\"\n"
   ]
  },
  {
   "cell_type": "code",
   "execution_count": 12,
   "metadata": {},
   "outputs": [],
   "source": [
    "mltable_new = mb.MLtableBuilder(table_name=\"test_table\", image_urls=[\"url1\", \"url2\"], Labels=[{\"task1\": \"url1\"}, {\"task2\": \"url2\"}], aml_workspace=\"mlw-mlopsv2clas-505prod\")"
   ]
  },
  {
   "cell_type": "code",
   "execution_count": 13,
   "metadata": {},
   "outputs": [
    {
     "data": {
      "text/plain": [
       "'test_table'"
      ]
     },
     "execution_count": 13,
     "metadata": {},
     "output_type": "execute_result"
    }
   ],
   "source": [
    "mltable_new.table_name"
   ]
  },
  {
   "cell_type": "code",
   "execution_count": null,
   "metadata": {},
   "outputs": [],
   "source": []
  }
 ],
 "metadata": {
  "kernelspec": {
   "display_name": "Python 3.10 - SDK V2",
   "language": "python",
   "name": "python310-sdkv2"
  },
  "language_info": {
   "codemirror_mode": {
    "name": "ipython",
    "version": 3
   },
   "file_extension": ".py",
   "mimetype": "text/x-python",
   "name": "python",
   "nbconvert_exporter": "python",
   "pygments_lexer": "ipython3",
   "version": "3.10.6"
  },
  "orig_nbformat": 4,
  "vscode": {
   "interpreter": {
    "hash": "6d65a8c07f5b6469e0fc613f182488c0dccce05038bbda39e5ac9075c0454d11"
   }
  }
 },
 "nbformat": 4,
 "nbformat_minor": 2
}
