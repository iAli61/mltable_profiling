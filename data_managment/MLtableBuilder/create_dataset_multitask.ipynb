{
 "cells": [
  {
   "cell_type": "code",
   "execution_count": 1,
   "metadata": {},
   "outputs": [],
   "source": [
    "import pandas as pd\n",
    "import numpy as np\n",
    "import MLtableBuilder as mb\n"
   ]
  },
  {
   "cell_type": "code",
   "execution_count": 2,
   "metadata": {},
   "outputs": [
    {
     "data": {
      "text/plain": [
       "<module 'MLtableBuilder' from '/mnt/batch/tasks/shared/LS_root/mounts/clusters/alibina8/code/Users/alibina/Mlops-cli2-classic/data-science/experiment/bosch/data_managment/MLtableBuilder/MLtableBuilder.py'>"
      ]
     },
     "execution_count": 2,
     "metadata": {},
     "output_type": "execute_result"
    }
   ],
   "source": [
    "# reload the module if it has been modified\n",
    "import importlib\n",
    "importlib.reload(mb)"
   ]
  },
  {
   "cell_type": "code",
   "execution_count": 3,
   "metadata": {},
   "outputs": [],
   "source": [
    "# increase width of displayed rows in pandas\n",
    "\n",
    "pd.set_option('display.max_rows', 500)"
   ]
  },
  {
   "cell_type": "code",
   "execution_count": 4,
   "metadata": {},
   "outputs": [],
   "source": [
    "# csv file uri = https://esvvipersc7a.blob.core.windows.net/data/sample_multitask_nrcs_dataset/2022-11-29_000000_UTC/nrcs/sample_multitask_dataset_yuv.csv\n"
   ]
  },
  {
   "cell_type": "code",
   "execution_count": 5,
   "metadata": {},
   "outputs": [],
   "source": [
    "# add clinent id, client secret, tenant id, aml workspace, resource group, subscription id to the environment variables\n",
    "import os\n",
    "# os.environ[\"AZURE_CLIENT_ID\"] = \"\"\n",
    "# os.environ[\"AZURE_CLIENT_SECRET\"] = \"\"\n",
    "# os.environ[\"AZURE_TENANT_ID\"] = \"\"\n",
    "# read .env file as environment variables\n",
    "with open(\"../../../.env\", \"r\") as f:\n",
    "    for line in f:\n",
    "        if line.strip() != \"\":\n",
    "            key, value = line.strip().split(\"=\", 1)\n",
    "            os.environ[key] = value"
   ]
  },
  {
   "cell_type": "code",
   "execution_count": 6,
   "metadata": {},
   "outputs": [
    {
     "data": {
      "text/html": [
       "<div>\n",
       "<style scoped>\n",
       "    .dataframe tbody tr th:only-of-type {\n",
       "        vertical-align: middle;\n",
       "    }\n",
       "\n",
       "    .dataframe tbody tr th {\n",
       "        vertical-align: top;\n",
       "    }\n",
       "\n",
       "    .dataframe thead th {\n",
       "        text-align: right;\n",
       "    }\n",
       "</style>\n",
       "<table border=\"1\" class=\"dataframe\">\n",
       "  <thead>\n",
       "    <tr style=\"text-align: right;\">\n",
       "      <th></th>\n",
       "      <th>split</th>\n",
       "      <th>yuv</th>\n",
       "      <th>vru</th>\n",
       "      <th>vehicle</th>\n",
       "      <th>stixel_freespace</th>\n",
       "      <th>blockage</th>\n",
       "    </tr>\n",
       "  </thead>\n",
       "  <tbody>\n",
       "    <tr>\n",
       "      <th>0</th>\n",
       "      <td>train</td>\n",
       "      <td>https://esvvipersc7a.blob.core.windows.net/dat...</td>\n",
       "      <td>https://esvvipersc7a.blob.core.windows.net/dat...</td>\n",
       "      <td>NaN</td>\n",
       "      <td>NaN</td>\n",
       "      <td>NaN</td>\n",
       "    </tr>\n",
       "    <tr>\n",
       "      <th>1</th>\n",
       "      <td>train</td>\n",
       "      <td>https://esvvipersc7a.blob.core.windows.net/dat...</td>\n",
       "      <td>https://esvvipersc7a.blob.core.windows.net/dat...</td>\n",
       "      <td>NaN</td>\n",
       "      <td>NaN</td>\n",
       "      <td>NaN</td>\n",
       "    </tr>\n",
       "    <tr>\n",
       "      <th>2</th>\n",
       "      <td>train</td>\n",
       "      <td>https://esvvipersc7a.blob.core.windows.net/dat...</td>\n",
       "      <td>https://esvvipersc7a.blob.core.windows.net/dat...</td>\n",
       "      <td>NaN</td>\n",
       "      <td>NaN</td>\n",
       "      <td>NaN</td>\n",
       "    </tr>\n",
       "    <tr>\n",
       "      <th>3</th>\n",
       "      <td>train</td>\n",
       "      <td>https://esvvipersc7a.blob.core.windows.net/dat...</td>\n",
       "      <td>https://esvvipersc7a.blob.core.windows.net/dat...</td>\n",
       "      <td>NaN</td>\n",
       "      <td>NaN</td>\n",
       "      <td>NaN</td>\n",
       "    </tr>\n",
       "    <tr>\n",
       "      <th>4</th>\n",
       "      <td>train</td>\n",
       "      <td>https://esvvipersc7a.blob.core.windows.net/dat...</td>\n",
       "      <td>https://esvvipersc7a.blob.core.windows.net/dat...</td>\n",
       "      <td>NaN</td>\n",
       "      <td>NaN</td>\n",
       "      <td>NaN</td>\n",
       "    </tr>\n",
       "  </tbody>\n",
       "</table>\n",
       "</div>"
      ],
      "text/plain": [
       "   split                                                yuv  \\\n",
       "0  train  https://esvvipersc7a.blob.core.windows.net/dat...   \n",
       "1  train  https://esvvipersc7a.blob.core.windows.net/dat...   \n",
       "2  train  https://esvvipersc7a.blob.core.windows.net/dat...   \n",
       "3  train  https://esvvipersc7a.blob.core.windows.net/dat...   \n",
       "4  train  https://esvvipersc7a.blob.core.windows.net/dat...   \n",
       "\n",
       "                                                 vru vehicle stixel_freespace  \\\n",
       "0  https://esvvipersc7a.blob.core.windows.net/dat...     NaN              NaN   \n",
       "1  https://esvvipersc7a.blob.core.windows.net/dat...     NaN              NaN   \n",
       "2  https://esvvipersc7a.blob.core.windows.net/dat...     NaN              NaN   \n",
       "3  https://esvvipersc7a.blob.core.windows.net/dat...     NaN              NaN   \n",
       "4  https://esvvipersc7a.blob.core.windows.net/dat...     NaN              NaN   \n",
       "\n",
       "  blockage  \n",
       "0      NaN  \n",
       "1      NaN  \n",
       "2      NaN  \n",
       "3      NaN  \n",
       "4      NaN  "
      ]
     },
     "execution_count": 6,
     "metadata": {},
     "output_type": "execute_result"
    }
   ],
   "source": [
    "# read multitask.csv file\n",
    "df = pd.read_csv(\"multitask.csv\")\n",
    "tasklist = ['yuv', 'vru', 'vehicle', 'stixel_freespace', 'blockage']\n",
    "taglist = ['split']\n",
    "# add https://esvvipersc7a.blob.core.windows.net/data/sample_multitask_nrcs_dataset/2022-11-29_000000_UTC/ to pathes of each row in tasklist columns\n",
    "df[tasklist] = df[tasklist].apply(lambda x: 'https://esvvipersc7a.blob.core.windows.net/data/sample_multitask_nrcs_dataset/2022-11-29_000000_UTC/' + x, axis=1)\n",
    "df.head()\n",
    "# save the file\n",
    "# df.to_csv(\"multitask-url.csv\", index=False)\n",
    "df.head()"
   ]
  },
  {
   "cell_type": "code",
   "execution_count": 7,
   "metadata": {},
   "outputs": [
    {
     "data": {
      "text/plain": [
       "nan"
      ]
     },
     "execution_count": 7,
     "metadata": {},
     "output_type": "execute_result"
    }
   ],
   "source": [
    "# reprlace .tiff with .jpg in yuv column\n",
    "df['yuv'] = df['yuv'].apply(lambda x: x.replace('.tiff', '.jpg'))"
   ]
  },
  {
   "cell_type": "code",
   "execution_count": 8,
   "metadata": {},
   "outputs": [],
   "source": [
    "image = 'yuv'\n",
    "tasklist = ['vru', 'vehicle', 'stixel_freespace', 'blockage']\n",
    "taglist = ['split']\n",
    "table = mb.MLtableBuilder(table_name=\"validation_annotations_absoult_path\",\n",
    "                          table_version=6,\n",
    "                          image_urls=df[image].tolist(), \n",
    "                          Labels=[{col: df[col][i] for col in df.columns if col in tasklist} for i in range(len(df))],\n",
    "                          tags=[{col: df[col][i] for col in df.columns if col in taglist} for i in range(len(df))],\n",
    "                          aml_workspace=\"mlw-mlopsv2clas-505prod\",\n",
    "                          table_path='./mltable_multitask',\n",
    "                          )"
   ]
  },
  {
   "cell_type": "code",
   "execution_count": 9,
   "metadata": {},
   "outputs": [
    {
     "ename": "ValueError",
     "evalue": "The datastore does not exist",
     "output_type": "error",
     "traceback": [
      "\u001b[0;31m---------------------------------------------------------------------------\u001b[0m",
      "\u001b[0;31mValueError\u001b[0m                                Traceback (most recent call last)",
      "\u001b[1;32m/home/azureuser/cloudfiles/code/Users/alibina/Mlops-cli2-classic/data-science/experiment/bosch/data_managment/MLtableBuilder/create_dataset_multitask.ipynb Cell 9\u001b[0m in \u001b[0;36m<cell line: 1>\u001b[0;34m()\u001b[0m\n\u001b[0;32m----> <a href='vscode-notebook-cell://amlext%2B2f737562736372697074696f6e732f66383034663264612d633237622d343561632d626638302d3136643464333331373736642f7265736f7572636547726f7570732f72672d6d6c6f70737632636c61732d35303570726f642f70726f7669646572732f4d6963726f736f66742e4d616368696e654c6561726e696e6753657276696365732f776f726b7370616365732f6d6c772d6d6c6f70737632636c61732d35303570726f642f636f6d70757465732f616c6962696e6138/home/azureuser/cloudfiles/code/Users/alibina/Mlops-cli2-classic/data-science/experiment/bosch/data_managment/MLtableBuilder/create_dataset_multitask.ipynb#X10sdnNjb2RlLXJlbW90ZQ%3D%3D?line=0'>1</a>\u001b[0m table\u001b[39m.\u001b[39;49mcreate_jsonl()\n",
      "File \u001b[0;32m/mnt/batch/tasks/shared/LS_root/mounts/clusters/alibina8/code/Users/alibina/Mlops-cli2-classic/data-science/experiment/bosch/data_managment/MLtableBuilder/MLtableBuilder.py:173\u001b[0m, in \u001b[0;36mMLtableBuilder.create_jsonl\u001b[0;34m(self)\u001b[0m\n\u001b[1;32m    170\u001b[0m \u001b[39mfor\u001b[39;00m i \u001b[39min\u001b[39;00m \u001b[39mrange\u001b[39m(\u001b[39mlen\u001b[39m(\u001b[39mself\u001b[39m\u001b[39m.\u001b[39mimage_urls)):\n\u001b[1;32m    171\u001b[0m     \u001b[39m# create a dictionary for each image\u001b[39;00m\n\u001b[1;32m    172\u001b[0m     d \u001b[39m=\u001b[39m {}\n\u001b[0;32m--> 173\u001b[0m     d[\u001b[39mself\u001b[39m\u001b[39m.\u001b[39mimage_urls_column] \u001b[39m=\u001b[39m \u001b[39mself\u001b[39;49m\u001b[39m.\u001b[39;49mconvert_image_urls_to_aml_urls(\u001b[39mself\u001b[39;49m\u001b[39m.\u001b[39;49mimage_urls[i])\n\u001b[1;32m    174\u001b[0m     \u001b[39m# add the labels\u001b[39;00m\n\u001b[1;32m    175\u001b[0m     \u001b[39mfor\u001b[39;00m label \u001b[39min\u001b[39;00m \u001b[39mself\u001b[39m\u001b[39m.\u001b[39mLabels[i]:\n",
      "File \u001b[0;32m/mnt/batch/tasks/shared/LS_root/mounts/clusters/alibina8/code/Users/alibina/Mlops-cli2-classic/data-science/experiment/bosch/data_managment/MLtableBuilder/MLtableBuilder.py:152\u001b[0m, in \u001b[0;36mMLtableBuilder.convert_image_urls_to_aml_urls\u001b[0;34m(self, img_url)\u001b[0m\n\u001b[1;32m    148\u001b[0m \u001b[39m# check if f\"{storage_account_name}_{container_name}\" is a key in datastores_dict\u001b[39;00m\n\u001b[1;32m    149\u001b[0m \u001b[39mif\u001b[39;00m \u001b[39mf\u001b[39m\u001b[39m\"\u001b[39m\u001b[39m{\u001b[39;00mstorage_account_name\u001b[39m}\u001b[39;00m\u001b[39m_\u001b[39m\u001b[39m{\u001b[39;00mcontainer_name\u001b[39m}\u001b[39;00m\u001b[39m\"\u001b[39m \u001b[39mnot\u001b[39;00m \u001b[39min\u001b[39;00m \u001b[39mself\u001b[39m\u001b[39m.\u001b[39mdatastores_dict:\n\u001b[1;32m    150\u001b[0m     \u001b[39m# TODO: create a new datastore\u001b[39;00m\n\u001b[1;32m    151\u001b[0m     \u001b[39m# self.create_datastore(storage_account_name=storage_account_name, container_name=container_name)\u001b[39;00m\n\u001b[0;32m--> 152\u001b[0m     \u001b[39mraise\u001b[39;00m \u001b[39mValueError\u001b[39;00m(\u001b[39m\"\u001b[39m\u001b[39mThe datastore does not exist\u001b[39m\u001b[39m\"\u001b[39m)\n\u001b[1;32m    154\u001b[0m \u001b[39m# add the image url\u001b[39;00m\n\u001b[1;32m    155\u001b[0m \u001b[39m# image_url example: azureml://subscriptions/<subscription_id>/resourcegroups/<resource_group_name>/workspaces/<workspace_name>/datastores/<datastore_name>/paths/<path>\u001b[39;00m\n\u001b[1;32m    156\u001b[0m datastore_name \u001b[39m=\u001b[39m \u001b[39mself\u001b[39m\u001b[39m.\u001b[39mdatastores_dict[\u001b[39mf\u001b[39m\u001b[39m\"\u001b[39m\u001b[39m{\u001b[39;00mstorage_account_name\u001b[39m}\u001b[39;00m\u001b[39m_\u001b[39m\u001b[39m{\u001b[39;00mcontainer_name\u001b[39m}\u001b[39;00m\u001b[39m\"\u001b[39m]\n",
      "\u001b[0;31mValueError\u001b[0m: The datastore does not exist"
     ]
    }
   ],
   "source": [
    "table.create_jsonl()"
   ]
  },
  {
   "cell_type": "code",
   "execution_count": 13,
   "metadata": {},
   "outputs": [],
   "source": [
    "tasklist = ['vru', 'vehicle', 'stixel_freespace', 'blockage']\n",
    "covert_column_types = {col: 'mb.DataType.to_stream()' for col in tasklist}\n"
   ]
  },
  {
   "cell_type": "code",
   "execution_count": 14,
   "metadata": {},
   "outputs": [
    {
     "data": {
      "text/plain": [
       "{'vru': 'mb.DataType.to_stream()',\n",
       " 'vehicle': 'mb.DataType.to_stream()',\n",
       " 'stixel_freespace': 'mb.DataType.to_stream()',\n",
       " 'blockage': 'mb.DataType.to_stream()'}"
      ]
     },
     "execution_count": 14,
     "metadata": {},
     "output_type": "execute_result"
    }
   ],
   "source": [
    "covert_column_types"
   ]
  },
  {
   "cell_type": "code",
   "execution_count": null,
   "metadata": {},
   "outputs": [],
   "source": []
  }
 ],
 "metadata": {
  "kernelspec": {
   "display_name": "azureml_py310_sdkv2",
   "language": "python",
   "name": "python3"
  },
  "language_info": {
   "codemirror_mode": {
    "name": "ipython",
    "version": 3
   },
   "file_extension": ".py",
   "mimetype": "text/x-python",
   "name": "python",
   "nbconvert_exporter": "python",
   "pygments_lexer": "ipython3",
   "version": "3.10.6"
  },
  "orig_nbformat": 4
 },
 "nbformat": 4,
 "nbformat_minor": 2
}
