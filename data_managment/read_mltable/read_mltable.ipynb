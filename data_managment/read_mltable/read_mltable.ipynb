{
 "cells": [
  {
   "cell_type": "code",
   "execution_count": null,
   "metadata": {},
   "outputs": [],
   "source": [
    "from azureml.dataprep.api.mltable._mltable_helper import _read_yaml, _download_mltable_yaml, _parse_path_format\n",
    "from mltable import MLTable, DataType\n",
    "\n",
    "def covert_stream2Strin(tbl, uri):\n",
    "    _PATHS_KEY = \"paths\"\n",
    "    path_type, base_path, match = _parse_path_format(uri)\n",
    "\n",
    "    is_local = False\n",
    "    local_path = _download_mltable_yaml(uri)\n",
    "    mltable_dict = _read_yaml(local_path)\n",
    "    orig_rel_paths = tbl.paths[0]['pattern']\n",
    "\n",
    "    # drop 'convert_column_types' from the mltable_dict\n",
    "    for i, item in enumerate(mltable_dict['transformations']):\n",
    "        if item.get('convert_column_types'):\n",
    "            mltable_dict['transformations'].pop(i)\n",
    "\n",
    "    mltable_dict['paths'][0]['pattern'] = orig_rel_paths\n",
    "\n",
    "    tbl_new = MLTable._create_from_dict(mltable_dict=mltable_dict, orig_paths=orig_rel_paths)\n",
    "    # tbl_new = tbl_new.convert_column_types({\"img\": DataType.to_string()})\n",
    "    return tbl_new"
   ]
  },
  {
   "cell_type": "code",
   "execution_count": null,
   "metadata": {},
   "outputs": [],
   "source": [
    "import mltable\n",
    "uri = \"azureml://subscriptions/23d87939-b6f4-4a2e-aef5-74ed1e9d8889/resourcegroups/cz-ag01-r337-we-d-cop-research-has-openai/workspaces/COP_GPT-MVP_playground/datastores/workspaceblobstore/paths/LocalUpload/c7e22bb674c1bac22e8c2297aec6f551/mltable/\"\n",
    "tbl = mltable.load(uri)\n",
    "\n",
    "tbl_new = covert_stream2Strin(tbl, uri)\n",
    "tbl_new.to_pandas_dataframe().head(1)"
   ]
  }
 ],
 "metadata": {
  "language_info": {
   "name": "python"
  },
  "orig_nbformat": 4
 },
 "nbformat": 4,
 "nbformat_minor": 2
}
